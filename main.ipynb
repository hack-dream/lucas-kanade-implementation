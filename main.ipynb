{
 "cells": [
  {
   "attachments": {},
   "cell_type": "markdown",
   "metadata": {},
   "source": [
    "# Реализация оптического потока\n",
    "    \n",
    "Алгоритм Лукаса-Канаде"
   ]
  },
  {
   "attachments": {},
   "cell_type": "markdown",
   "metadata": {},
   "source": [
    "## Обоснование\n",
    "\n",
    "Основная идея алгоритма LK заключена в трех предположениях.\n",
    "\n",
    "1. *Постоянство яркости*. Пиксель объекта на изображении не изменяется внешне (по возможности) при перемещении от кадра к кадру. Для серого изображения (LK так же можно применять и для цветного изображения) это предположение означает, что яркость пикселя не изменяется при слежении от кадра к кадру.\n",
    "\n",
    "2. *Временное постоянство или \"малые перемещения\"*. Изменение движущейся поверхности патча изображения во времени происходит очень медленно. На практике это означает, что приращение времени достаточно велико относительно масштаба движения в изображении, то есть объект мало перемещаем от кадра к кадру.\n",
    "\n",
    "3. *Пространственная когерентность*. Соседние точки на сцене, принадлежащие одной поверхности, имеют аналогичные движения и проектируются к соседним точкам на плоскости изображения."
   ]
  },
  {
   "attachments": {},
   "cell_type": "markdown",
   "metadata": {},
   "source": [
    "## Ресурсы\n",
    "\n",
    "- [Диссертация на тему \"Оценка и визуализация оптического потока в задачах обработки изображений\"](https://dspace.spbu.ru/bitstream/11701/5002/1/diplom_gr__633_Smirnov_K__V.pdf)\n",
    "- [Википедия - Алгоритм Лукаса — Канаде](https://ru.wikipedia.org/wiki/%D0%90%D0%BB%D0%B3%D0%BE%D1%80%D0%B8%D1%82%D0%BC_%D0%9B%D1%83%D0%BA%D0%B0%D1%81%D0%B0_%E2%80%94_%D0%9A%D0%B0%D0%BD%D0%B0%D0%B4%D0%B5)\n",
    "- [Репозиторий с хорошим описанием](https://github.com/ant76/TranslateBookLearningOpenCV/blob/master/Chapter10/OpticalFlow.md)"
   ]
  },
  {
   "attachments": {},
   "cell_type": "markdown",
   "metadata": {},
   "source": [
    "## Реализация"
   ]
  },
  {
   "attachments": {},
   "cell_type": "markdown",
   "metadata": {},
   "source": [
    "Скучная часть с зависимостями"
   ]
  },
  {
   "cell_type": "code",
   "execution_count": 1,
   "metadata": {},
   "outputs": [],
   "source": [
    "import numpy as np\n",
    "import cv2, os, imageio, shutil\n",
    "import matplotlib.pyplot as plt"
   ]
  },
  {
   "attachments": {},
   "cell_type": "markdown",
   "metadata": {},
   "source": [
    "Основная функция построения оптического потока"
   ]
  },
  {
   "cell_type": "code",
   "execution_count": 2,
   "metadata": {},
   "outputs": [],
   "source": [
    "def optical_flow(old_frame, new_frame, window_size, max_corners, min_quality, min_distance):\n",
    "\t'''\n",
    "\t\tFinds the optical flow between two frames using Lucas-Kanade algorithm\n",
    "\t'''\n",
    "\n",
    "\t# Функция, которая ищет max_corners углов в old_frame по алгоритму Ши-Томази\n",
    "\t# Изображение обязательно должно быть в градациях серого\n",
    "\t# min_quality - минимальное качество угла, которое мы хотим получить\n",
    "\t# min_distance - минимальное евклидово расстояние между углами\n",
    "\t# Пример работы: http://espressocode.top/python-detect-corner-of-an-image-using-opencv/\n",
    "\tfeature_list = cv2.goodFeaturesToTrack(old_frame, max_corners, min_quality, min_distance)\n",
    "\tw = window_size // 2\n",
    "\n",
    "\t# Приводим к диапазону [0, 1] для удобства понимания интенсивности пикселей\n",
    "\told_frame = old_frame / 255\n",
    "\tnew_frame = new_frame / 255\n",
    "\n",
    "\t# Матрицы-фильтры для x, y и t для дальнейшего применения filter2D()\n",
    "\tfilterX = np.array([[-1, 1], [-1, 1]])\n",
    "\tfilterY = np.array([[-1, -1], [1, 1]])\n",
    "\tfilterT = np.array([[1, 1], [1, 1]])\n",
    "\n",
    "\t# Фильтруем кадр так, чтобы изменить значение интенсивности пикселей\n",
    "\t# Это поможет выявить или удалить определенные характеристики изображения\n",
    "\t# Пример работы: https://www.askpython.com/python-modules/opencv-filter2d\n",
    "\tfiltered_x = cv2.filter2D(old_frame, -1, filterX)\n",
    "\tfiltered_y = cv2.filter2D(old_frame, -1, filterY)\n",
    "\tfiltered_t = cv2.filter2D(new_frame, -1, filterT) - cv2.filter2D(old_frame, -1, filterT)\n",
    "\n",
    "\tu = np.zeros(old_frame.shape)\n",
    "\tv = np.zeros(old_frame.shape)\n",
    "\n",
    "\tfor feature in feature_list:\n",
    "\t\t# Получаем пиксельные координаты угла\n",
    "\t\tj, i = feature.ravel()\t\t\n",
    "\t\ti, j = int(i), int(j)\n",
    "\n",
    "\t\t# Подсчет частных производных в окошке w\n",
    "\t\tI_x = filtered_x[i-w:i+w+1, j-w:j+w+1].flatten()\n",
    "\t\tI_y = filtered_y[i-w:i+w+1, j-w:j+w+1].flatten()\n",
    "\t\tI_t = filtered_t[i-w:i+w+1, j-w:j+w+1].flatten()\n",
    "\t\t\n",
    "\t\t# Математическая часть алгоритма An = b или же A(u, v) = b (wikipedia)\n",
    "\t\tb = np.reshape(I_t, (I_t.shape[0],1))\n",
    "\t\tA = np.vstack((I_x, I_y)).T\n",
    "\n",
    "\t\t# https://numpy.org/doc/stable/reference/generated/numpy.linalg.pinv.html\n",
    "\t\tn = np.matmul(np.linalg.pinv(A), b)\n",
    "\n",
    "\t\t# Полученные вектора смещения\n",
    "\t\tu[i, j] = n[0][0]\n",
    "\t\tv[i, j] = n[1][0]\n",
    "\n",
    "\treturn (u, v)"
   ]
  },
  {
   "attachments": {},
   "cell_type": "markdown",
   "metadata": {},
   "source": [
    "## Визуализация"
   ]
  },
  {
   "attachments": {},
   "cell_type": "markdown",
   "metadata": {},
   "source": [
    "Вспомогательная функция для рисования на кадрах"
   ]
  },
  {
   "cell_type": "code",
   "execution_count": 3,
   "metadata": {},
   "outputs": [],
   "source": [
    "def createFlowOnFrames(frame, U, V, output_file):\n",
    "\t'''\n",
    "\tДля каждого пикселя построить вектор смещения (при наличии) и нарисовать этот вектор на изображении\n",
    "\t'''\n",
    "\tcolor = (255, 0, 0)\n",
    "\tfor i in range(frame.shape[0]):\n",
    "\t\tfor j in range(frame.shape[1]):\n",
    "\t\t\tu, v = U[i][j], V[i][j]\n",
    "\t\t\tif u and v:\n",
    "\t\t\t\tframe = cv2.arrowedLine(frame, \n",
    "\t\t\t\t\t\t\t\t\t\t(j, i), \n",
    "\t\t\t\t\t\t\t\t\t\t(int(round(j + v)), int(round(i + u))),\n",
    "\t\t\t\t\t\t\t\t\t\tcolor,\n",
    "\t\t\t\t\t\t\t\t\t\tthickness=1)\n",
    "\tcv2.imwrite(output_file, frame)\n",
    "\n",
    "def createFramesSeparatePlot(old_frame, new_frame, U, V, output_file):\n",
    "\tmove = np.ones_like(new_frame)\n",
    "\tmove.fill(255.)             \n",
    "\t\n",
    "\tfor i in range(new_frame.shape[0]):\n",
    "\t\tfor j in range(new_frame.shape[1]):\n",
    "\t\t\tstart_pixel = (j, i)\n",
    "\t\t\tend_pixel = (int(j + V[i][j]) , int(i + U[i][j]))\n",
    "\n",
    "\t\t\tif U[i][j] and V[i][j] and IsCoordsInFrame(end_pixel, old_frame.shape):     \n",
    "\t\t\t\tmove = cv2.arrowedLine(move, start_pixel, end_pixel, (0, 0, 0), thickness=2)\n",
    "\n",
    "\tfigure, axes = plt.subplots(1,3)\n",
    "\taxes[0].imshow(old_frame, cmap = \"gray\")\n",
    "\taxes[0].set_title(\"Frame i\")\n",
    "\taxes[0].get_xaxis().set_visible(False)\n",
    "\taxes[0].get_yaxis().set_visible(False)\n",
    "\n",
    "\taxes[1].imshow(new_frame, cmap = \"gray\")\n",
    "\taxes[1].set_title(\"Frame i + 1\")\n",
    "\taxes[1].get_xaxis().set_visible(False)\n",
    "\taxes[1].get_yaxis().set_visible(False)\n",
    "\n",
    "\taxes[2].imshow(move, cmap = \"gray\")\n",
    "\taxes[2].set_title(\"Move from i to i + 1\")\n",
    "\taxes[2].get_xaxis().set_visible(False)\n",
    "\taxes[2].get_yaxis().set_visible(False)\n",
    "\n",
    "\tfigure.tight_layout()\n",
    "\tplt.rcParams[\"figure.figsize\"] = (10, 10)\n",
    "\tplt.savefig(output_file, bbox_inches = \"tight\", dpi = 800)\n",
    "\n",
    "def IsCoordsInFrame(cordinates, limits):\n",
    "\tx, y = cordinates\n",
    "\tlimit_x, limit_y = limits\n",
    "\treturn 0 <= x < limit_x and 0 <= y < limit_y"
   ]
  },
  {
   "attachments": {},
   "cell_type": "markdown",
   "metadata": {},
   "source": [
    "Фунция, которая создает гифку с оптическим потоком"
   ]
  },
  {
   "cell_type": "code",
   "execution_count": 4,
   "metadata": {},
   "outputs": [],
   "source": [
    "def get_optical_flow_gif(filename, window_size, max_corners, min_quality, min_distance):\n",
    "\t'''\n",
    "\t\tFunction for getting optical flow gif\n",
    "\t'''\n",
    "\t\n",
    "\t# Считываем gif файл\n",
    "\tgif = cv2.VideoCapture(filename)\n",
    "\t# Считаем количество кадров в gif\n",
    "\tcount_frames = int(gif.get(cv2.CAP_PROP_FRAME_COUNT))\n",
    "\n",
    "\t# Создаем папки для промежуточных результатов\n",
    "\t\n",
    "\t# Папка для кадров gif\n",
    "\tif not os.path.exists('gif'):\n",
    "\t\tos.makedirs('gif')\n",
    "\t# Папка для результатов\n",
    "\tif not os.path.exists('result'):\n",
    "\t\tos.makedirs('result')\n",
    "\t# Папка для результатов с разделением на два кадра\n",
    "\tif not os.path.exists('separate_result'):\n",
    "\t\tos.makedirs('separate_result')\n",
    "\n",
    "\t# Сохраняем кадры нашей gif\n",
    "\tfor i in range(count_frames):\n",
    "\t\t_, frame = gif.read()\n",
    "\t\tcv2.imwrite(f'gif/image{i}.png', frame)\n",
    "\n",
    "\t# Делим нашу gif'ку на попарные кадры для построения потока\n",
    "\t\n",
    "\tfor i in range(count_frames - 1):\n",
    "\t\t# Считываем два соседних кадра\n",
    "\t\timg1 = cv2.imread(f\"gif/image{i}.png\")\n",
    "\t\timg2 = cv2.imread(f\"gif/image{i + 1}.png\")\n",
    "\n",
    "\t\t# Будем считать, что рассматриваются черно-белые изображения\n",
    "\t\t# В этом случае цвет точки изображения определяется одним числом\n",
    "\t\t# Будем далее называть яркостью или же интенсивностью $I$\n",
    "\t\timg1 = cv2.cvtColor(img1, cv2.COLOR_BGR2GRAY)\n",
    "\t\timg2 = cv2.cvtColor(img2, cv2.COLOR_BGR2GRAY)\n",
    "\n",
    "\t\t# Считаем поток, получаем две матрицы U и V\n",
    "\t\tU, V = optical_flow(img1, img2, window_size, max_corners, min_quality, min_distance)\n",
    "\n",
    "\t\t# Сохраняем результаты\n",
    "\t\timg2 = cv2.cvtColor(img2, cv2.COLOR_GRAY2RGB)\n",
    "\t\tcreateFramesSeparatePlot(img1, img2, U, V, f'separate_result/image_{i}.png')\n",
    "\t\tcreateFlowOnFrames(img2, U, V, f'result/image_{i}.png')\n",
    "\n",
    "\t# Создаем массив результативных кадров для превращения в гифку\n",
    "\tresult_images = []\n",
    "\tseparate_result_images = []\n",
    "\n",
    "\tfor i in range(count_frames - 1):\n",
    "\t\tfilename = f'result/image_{i}.png'\n",
    "\t\tresult_images.append(imageio.imread(filename))\n",
    "\t\tfilename = f'separate_result/image_{i}.png'\n",
    "\t\tseparate_result_images.append(imageio.imread(filename))\n",
    "\t\t\n",
    "\t# Сохраняем результаты в гиф\n",
    "\timageio.mimsave('result.gif', result_images)    \n",
    "\timageio.mimsave('separate_result.gif', separate_result_images)\n",
    "\n",
    "\t# Чистим за собой\n",
    "\tdef clean_folder(folder):\n",
    "\t\tfor filename in os.listdir(folder):\n",
    "\t\t\tfile_path = os.path.join(folder, filename)\n",
    "\t\t\ttry:\n",
    "\t\t\t\tif os.path.isfile(file_path) or os.path.islink(file_path):\n",
    "\t\t\t\t\tos.unlink(file_path)\n",
    "\t\t\t\telif os.path.isdir(file_path):\n",
    "\t\t\t\t\tshutil.rmtree(file_path)\n",
    "\t\t\texcept Exception as e:\n",
    "\t\t\t\tprint('Failed to delete %s. Reason: %s' % (file_path, e))\n",
    "\t\t\t\t\t\n",
    "\tclean_folder('gif')\n",
    "\tclean_folder('result')\n",
    "\tclean_folder('separate_result')               \n",
    "\tos.rmdir('gif')\n",
    "\tos.rmdir('result')\n",
    "\tos.rmdir('separate_result')"
   ]
  },
  {
   "cell_type": "code",
   "execution_count": null,
   "metadata": {},
   "outputs": [],
   "source": [
    "get_optical_flow_gif('bouncing_ball.gif', \n",
    "                     window_size=15, \n",
    "                     max_corners=400, \n",
    "                     min_quality=0.01, \n",
    "                     min_distance=3)"
   ]
  },
  {
   "attachments": {},
   "cell_type": "markdown",
   "metadata": {},
   "source": [
    "## Результаты"
   ]
  },
  {
   "attachments": {},
   "cell_type": "markdown",
   "metadata": {},
   "source": [
    "### Начальный файл\n",
    "\n",
    "Предпочтительно иметь однотонный, контрастный с фоном объект, константного размера и обладающий явным направлением движения\n",
    "\n",
    "![](https://raw.githubusercontent.com/hack-dream/lucas-kanade-implementation/main/bouncing_ball.gif)"
   ]
  },
  {
   "attachments": {},
   "cell_type": "markdown",
   "metadata": {},
   "source": [
    "### Результирующий файл\n",
    "\n",
    "Накладываем на начальный файл смещения для выбранных _\"угловых\"_ пикселей\n",
    "\n",
    "![](https://raw.githubusercontent.com/hack-dream/lucas-kanade-implementation/main/result.gif)"
   ]
  }
 ],
 "metadata": {
  "kernelspec": {
   "display_name": "Python 3",
   "language": "python",
   "name": "python3"
  },
  "language_info": {
   "codemirror_mode": {
    "name": "ipython",
    "version": 3
   },
   "file_extension": ".py",
   "mimetype": "text/x-python",
   "name": "python",
   "nbconvert_exporter": "python",
   "pygments_lexer": "ipython3",
   "version": "3.10.6"
  },
  "orig_nbformat": 4,
  "vscode": {
   "interpreter": {
    "hash": "b0fa6594d8f4cbf19f97940f81e996739fb7646882a419484c72d19e05852a7e"
   }
  }
 },
 "nbformat": 4,
 "nbformat_minor": 2
}
